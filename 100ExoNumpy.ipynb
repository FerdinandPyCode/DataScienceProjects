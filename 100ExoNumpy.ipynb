{
 "cells": [
  {
   "cell_type": "code",
   "execution_count": 2,
   "id": "b0cbc056",
   "metadata": {},
   "outputs": [],
   "source": [
    "import numpy as np\n"
   ]
  },
  {
   "cell_type": "code",
   "execution_count": 4,
   "id": "f3000c42",
   "metadata": {},
   "outputs": [
    {
     "name": "stdout",
     "output_type": "stream",
     "text": [
      "1.19.5\n",
      "blas_mkl_info:\n",
      "  NOT AVAILABLE\n",
      "blis_info:\n",
      "  NOT AVAILABLE\n",
      "openblas_info:\n",
      "  NOT AVAILABLE\n",
      "atlas_3_10_blas_threads_info:\n",
      "  NOT AVAILABLE\n",
      "atlas_3_10_blas_info:\n",
      "  NOT AVAILABLE\n",
      "atlas_blas_threads_info:\n",
      "  NOT AVAILABLE\n",
      "atlas_blas_info:\n",
      "  NOT AVAILABLE\n",
      "accelerate_info:\n",
      "  NOT AVAILABLE\n",
      "blas_info:\n",
      "    libraries = ['blas', 'blas']\n",
      "    library_dirs = ['/usr/lib/x86_64-linux-gnu']\n",
      "    include_dirs = ['/usr/local/include', '/usr/include']\n",
      "    language = c\n",
      "    define_macros = [('HAVE_CBLAS', None)]\n",
      "blas_opt_info:\n",
      "    define_macros = [('NO_ATLAS_INFO', 1), ('HAVE_CBLAS', None)]\n",
      "    libraries = ['blas', 'blas']\n",
      "    library_dirs = ['/usr/lib/x86_64-linux-gnu']\n",
      "    include_dirs = ['/usr/local/include', '/usr/include']\n",
      "    language = c\n",
      "lapack_mkl_info:\n",
      "  NOT AVAILABLE\n",
      "openblas_lapack_info:\n",
      "  NOT AVAILABLE\n",
      "openblas_clapack_info:\n",
      "  NOT AVAILABLE\n",
      "flame_info:\n",
      "  NOT AVAILABLE\n",
      "atlas_3_10_threads_info:\n",
      "  NOT AVAILABLE\n",
      "atlas_3_10_info:\n",
      "  NOT AVAILABLE\n",
      "atlas_threads_info:\n",
      "  NOT AVAILABLE\n",
      "atlas_info:\n",
      "  NOT AVAILABLE\n",
      "lapack_info:\n",
      "    libraries = ['lapack', 'lapack']\n",
      "    library_dirs = ['/usr/lib/x86_64-linux-gnu']\n",
      "    language = f77\n",
      "lapack_opt_info:\n",
      "    libraries = ['lapack', 'lapack', 'blas', 'blas']\n",
      "    library_dirs = ['/usr/lib/x86_64-linux-gnu']\n",
      "    language = c\n",
      "    define_macros = [('NO_ATLAS_INFO', 1), ('HAVE_CBLAS', None)]\n",
      "    include_dirs = ['/usr/local/include', '/usr/include']\n"
     ]
    }
   ],
   "source": [
    "print(np.__version__)\n",
    "np.show_config()"
   ]
  },
  {
   "cell_type": "code",
   "execution_count": 6,
   "id": "050b357f",
   "metadata": {},
   "outputs": [
    {
     "data": {
      "text/plain": [
       "array([0., 0., 0., 0., 0., 0., 0., 0., 0., 0.])"
      ]
     },
     "execution_count": 6,
     "metadata": {},
     "output_type": "execute_result"
    }
   ],
   "source": [
    "mytab=np.zeros(10)\n",
    "mytab"
   ]
  },
  {
   "cell_type": "code",
   "execution_count": 9,
   "id": "5e460a57",
   "metadata": {},
   "outputs": [
    {
     "ename": "SyntaxError",
     "evalue": "invalid syntax (<ipython-input-9-60ac04a3272c>, line 1)",
     "output_type": "error",
     "traceback": [
      "\u001b[0;36m  File \u001b[0;32m\"<ipython-input-9-60ac04a3272c>\"\u001b[0;36m, line \u001b[0;32m1\u001b[0m\n\u001b[0;31m    python -c numpy.info(numpy.add)\u001b[0m\n\u001b[0m              ^\u001b[0m\n\u001b[0;31mSyntaxError\u001b[0m\u001b[0;31m:\u001b[0m invalid syntax\n"
     ]
    }
   ],
   "source": [
    "python -c numpy.info(numpy.add)"
   ]
  },
  {
   "cell_type": "code",
   "execution_count": 12,
   "id": "537a0442",
   "metadata": {},
   "outputs": [
    {
     "data": {
      "text/plain": [
       "array([0., 0., 0., 0., 1., 0., 0., 0., 0., 0.])"
      ]
     },
     "execution_count": 12,
     "metadata": {},
     "output_type": "execute_result"
    }
   ],
   "source": [
    "mytab=np.zeros(10)\n",
    "mytab[4]=1\n",
    "mytab"
   ]
  },
  {
   "cell_type": "code",
   "execution_count": 15,
   "id": "1a774870",
   "metadata": {},
   "outputs": [
    {
     "data": {
      "text/plain": [
       "array([10, 11, 12, 13, 14, 15, 16, 17, 18, 19, 20, 21, 22, 23, 24, 25, 26,\n",
       "       27, 28, 29, 30, 31, 32, 33, 34, 35, 36, 37, 38, 39, 40, 41, 42, 43,\n",
       "       44, 45, 46, 47, 48, 49])"
      ]
     },
     "execution_count": 15,
     "metadata": {},
     "output_type": "execute_result"
    }
   ],
   "source": [
    "mytab=np.arange(10,50)\n",
    "\n",
    "mytab"
   ]
  },
  {
   "cell_type": "code",
   "execution_count": 17,
   "id": "b10a7a1f",
   "metadata": {},
   "outputs": [
    {
     "data": {
      "text/plain": [
       "array([10, 11, 12, 13, 14, 15, 16, 17, 18, 19, 20, 21, 22, 23, 24, 25, 26,\n",
       "       27, 28, 29, 30, 31, 32, 33, 34, 35, 36, 37, 38, 39, 40, 41, 42, 43,\n",
       "       44, 45, 46, 47, 48, 49])"
      ]
     },
     "execution_count": 17,
     "metadata": {},
     "output_type": "execute_result"
    }
   ],
   "source": [
    "mytab=mytab[::-1]\n",
    "mytab"
   ]
  },
  {
   "cell_type": "code",
   "execution_count": 20,
   "id": "2c95daf4",
   "metadata": {},
   "outputs": [
    {
     "data": {
      "text/plain": [
       "array([[0, 1, 2],\n",
       "       [3, 4, 5],\n",
       "       [6, 7, 8]])"
      ]
     },
     "execution_count": 20,
     "metadata": {},
     "output_type": "execute_result"
    }
   ],
   "source": [
    "mytab=np.arange(9)\n",
    "mytab=mytab.reshape(3,3)\n",
    "mytab"
   ]
  },
  {
   "cell_type": "code",
   "execution_count": 23,
   "id": "e7cedddd",
   "metadata": {},
   "outputs": [
    {
     "data": {
      "text/plain": [
       "array([[0, 1, 2],\n",
       "       [3, 4, 5],\n",
       "       [6, 7, 8]])"
      ]
     },
     "execution_count": 23,
     "metadata": {},
     "output_type": "execute_result"
    }
   ],
   "source": [
    "mytab=np.arange(9).reshape(3,3)\n",
    "mytab"
   ]
  },
  {
   "cell_type": "code",
   "execution_count": 25,
   "id": "8c6226d9",
   "metadata": {},
   "outputs": [
    {
     "data": {
      "text/plain": [
       "(array([0, 1, 4]),)"
      ]
     },
     "execution_count": 25,
     "metadata": {},
     "output_type": "execute_result"
    }
   ],
   "source": [
    "nzero=np.nonzero([1,2,0,0,4,0])\n",
    "nzero"
   ]
  },
  {
   "cell_type": "code",
   "execution_count": 27,
   "id": "63c0c90a",
   "metadata": {},
   "outputs": [
    {
     "data": {
      "text/plain": [
       "array([[1., 0., 0.],\n",
       "       [0., 1., 0.],\n",
       "       [0., 0., 1.]])"
      ]
     },
     "execution_count": 27,
     "metadata": {},
     "output_type": "execute_result"
    }
   ],
   "source": [
    "mytab=np.eye(3,3)\n",
    "mytab"
   ]
  },
  {
   "cell_type": "code",
   "execution_count": 31,
   "id": "9b6dee4a",
   "metadata": {},
   "outputs": [
    {
     "data": {
      "text/plain": [
       "array([[[0.77496098, 0.39807689, 0.29385779],\n",
       "        [0.19533307, 0.12298204, 0.07753291],\n",
       "        [0.34487442, 0.54030158, 0.39714774]],\n",
       "\n",
       "       [[0.26090607, 0.31054539, 0.11261916],\n",
       "        [0.07012185, 0.02090137, 0.3165673 ],\n",
       "        [0.99074355, 0.41685372, 0.44883456]],\n",
       "\n",
       "       [[0.75942412, 0.30217253, 0.76227337],\n",
       "        [0.06032197, 0.16286902, 0.11889145],\n",
       "        [0.76130888, 0.08030302, 0.17996272]]])"
      ]
     },
     "execution_count": 31,
     "metadata": {},
     "output_type": "execute_result"
    }
   ],
   "source": [
    "mytab=np.random.random((3,3,3))\n",
    "mytab"
   ]
  },
  {
   "cell_type": "code",
   "execution_count": 34,
   "id": "09db0bc6",
   "metadata": {},
   "outputs": [
    {
     "name": "stdout",
     "output_type": "stream",
     "text": [
      "0.007847796182918532 0.9929959027347138\n"
     ]
    }
   ],
   "source": [
    "mytab=np.random.random((10,10))\n",
    "print(mytab.min(),mytab.max())"
   ]
  },
  {
   "cell_type": "code",
   "execution_count": 38,
   "id": "c070505b",
   "metadata": {},
   "outputs": [
    {
     "name": "stdout",
     "output_type": "stream",
     "text": [
      "[[0.9375967 ]\n",
      " [0.1504776 ]\n",
      " [0.42296286]\n",
      " [0.78196079]\n",
      " [0.96977673]\n",
      " [0.08124875]\n",
      " [0.89141573]\n",
      " [0.87222775]\n",
      " [0.34550144]\n",
      " [0.34020036]\n",
      " [0.29345436]\n",
      " [0.90077465]\n",
      " [0.46114771]\n",
      " [0.44811599]\n",
      " [0.66109627]\n",
      " [0.44626884]\n",
      " [0.17443542]\n",
      " [0.54061703]\n",
      " [0.62481284]\n",
      " [0.28509336]\n",
      " [0.67511139]\n",
      " [0.68495156]\n",
      " [0.49996441]\n",
      " [0.61338573]\n",
      " [0.43790484]\n",
      " [0.40928774]\n",
      " [0.74580547]\n",
      " [0.66008005]\n",
      " [0.36407872]\n",
      " [0.62311701]]\n",
      "0.5447624031918384\n"
     ]
    }
   ],
   "source": [
    "mytab=np.random.random((30,1))\n",
    "print(mytab)\n",
    "print(mytab.mean())"
   ]
  },
  {
   "cell_type": "code",
   "execution_count": 40,
   "id": "eced8aca",
   "metadata": {},
   "outputs": [
    {
     "data": {
      "text/plain": [
       "False"
      ]
     },
     "execution_count": 40,
     "metadata": {},
     "output_type": "execute_result"
    }
   ],
   "source": [
    "0 * np.nan\n",
    "np.nan == np.nan\n",
    "np.inf > np.nan\n",
    "np.nan - np.nan\n",
    "0.3 == 3 * 0.1"
   ]
  },
  {
   "cell_type": "code",
   "execution_count": 43,
   "id": "649007f9",
   "metadata": {},
   "outputs": [
    {
     "data": {
      "text/plain": [
       "array([[1., 1., 1., 1., 1., 1., 1., 1., 1., 1.],\n",
       "       [1., 0., 0., 0., 0., 0., 0., 0., 0., 1.],\n",
       "       [1., 0., 0., 0., 0., 0., 0., 0., 0., 1.],\n",
       "       [1., 0., 0., 0., 0., 0., 0., 0., 0., 1.],\n",
       "       [1., 0., 0., 0., 0., 0., 0., 0., 0., 1.],\n",
       "       [1., 0., 0., 0., 0., 0., 0., 0., 0., 1.],\n",
       "       [1., 0., 0., 0., 0., 0., 0., 0., 0., 1.],\n",
       "       [1., 0., 0., 0., 0., 0., 0., 0., 0., 1.],\n",
       "       [1., 0., 0., 0., 0., 0., 0., 0., 0., 1.],\n",
       "       [1., 1., 1., 1., 1., 1., 1., 1., 1., 1.]])"
      ]
     },
     "execution_count": 43,
     "metadata": {},
     "output_type": "execute_result"
    }
   ],
   "source": [
    "mytab=np.ones((10,10))\n",
    "mytab[1:-1,1:-1]=0\n",
    "mytab"
   ]
  },
  {
   "cell_type": "code",
   "execution_count": 47,
   "id": "05165d34",
   "metadata": {},
   "outputs": [
    {
     "data": {
      "text/plain": [
       "array([[0, 0, 0, 0, 0],\n",
       "       [1, 0, 0, 0, 0],\n",
       "       [0, 2, 0, 0, 0],\n",
       "       [0, 0, 3, 0, 0],\n",
       "       [0, 0, 0, 4, 0]])"
      ]
     },
     "execution_count": 47,
     "metadata": {},
     "output_type": "execute_result"
    }
   ],
   "source": [
    "mytab=np.diag(1+np.arange(4),k=-1)\n",
    "mytab"
   ]
  },
  {
   "cell_type": "code",
   "execution_count": 51,
   "id": "7faceb3c",
   "metadata": {},
   "outputs": [
    {
     "data": {
      "text/plain": [
       "array([[0., 0., 0., 0., 0.],\n",
       "       [1., 0., 0., 0., 0.],\n",
       "       [0., 2., 0., 0., 0.],\n",
       "       [0., 0., 3., 0., 0.],\n",
       "       [0., 0., 0., 4., 0.]])"
      ]
     },
     "execution_count": 51,
     "metadata": {},
     "output_type": "execute_result"
    }
   ],
   "source": [
    "mytab1=np.zeros((5,5))\n",
    "for i,j in zip(range(4),range(4)):\n",
    "    i+=1\n",
    "    mytab1[i][j]=i\n",
    "mytab1"
   ]
  },
  {
   "cell_type": "code",
   "execution_count": 53,
   "id": "87bc7dd4",
   "metadata": {},
   "outputs": [
    {
     "name": "stdout",
     "output_type": "stream",
     "text": [
      "[[0 1 0 1 0 1 0 1]\n",
      " [1 0 1 0 1 0 1 0]\n",
      " [0 1 0 1 0 1 0 1]\n",
      " [1 0 1 0 1 0 1 0]\n",
      " [0 1 0 1 0 1 0 1]\n",
      " [1 0 1 0 1 0 1 0]\n",
      " [0 1 0 1 0 1 0 1]\n",
      " [1 0 1 0 1 0 1 0]]\n"
     ]
    }
   ],
   "source": [
    "Z = np.zeros((8,8),dtype=int)\n",
    "Z[1::2,::2] = 1\n",
    "Z[::2,1::2] = 1\n",
    "print(Z)"
   ]
  },
  {
   "cell_type": "code",
   "execution_count": 55,
   "id": "cb5d4164",
   "metadata": {},
   "outputs": [
    {
     "name": "stdout",
     "output_type": "stream",
     "text": [
      "(1, 5, 4)\n"
     ]
    }
   ],
   "source": [
    "print(np.unravel_index(100,(6,7,8)))"
   ]
  },
  {
   "cell_type": "code",
   "execution_count": 57,
   "id": "cba1c57c",
   "metadata": {},
   "outputs": [
    {
     "name": "stdout",
     "output_type": "stream",
     "text": [
      "[[0 1 0 1 0 1 0 1]\n",
      " [1 0 1 0 1 0 1 0]\n",
      " [0 1 0 1 0 1 0 1]\n",
      " [1 0 1 0 1 0 1 0]\n",
      " [0 1 0 1 0 1 0 1]\n",
      " [1 0 1 0 1 0 1 0]\n",
      " [0 1 0 1 0 1 0 1]\n",
      " [1 0 1 0 1 0 1 0]]\n"
     ]
    }
   ],
   "source": [
    "Z = np.tile( np.array([[0,1],[1,0]]), (4,4))\n",
    "print(Z)"
   ]
  },
  {
   "cell_type": "code",
   "execution_count": 59,
   "id": "8a475961",
   "metadata": {},
   "outputs": [
    {
     "data": {
      "text/plain": [
       "array([[-0.64394529, -0.70542174, -0.60119375, -0.50062559,  0.74741423],\n",
       "       [-2.71085272, -0.32318587, -0.22377612,  0.49562128, -0.28140506],\n",
       "       [ 1.60571283, -1.33797101,  1.85038816, -0.66047276, -1.02739445],\n",
       "       [ 1.90188084, -0.9658292 ,  2.19682381, -0.2342923 ,  1.50114731],\n",
       "       [ 1.61392737,  0.83613504, -0.92283629, -0.96019294, -1.09252796]])"
      ]
     },
     "execution_count": 59,
     "metadata": {},
     "output_type": "execute_result"
    }
   ],
   "source": [
    "mybox=np.random.randn(25).reshape((5,5))\n",
    "mybox"
   ]
  },
  {
   "cell_type": "code",
   "execution_count": 61,
   "id": "94c61f5d",
   "metadata": {},
   "outputs": [
    {
     "name": "stdout",
     "output_type": "stream",
     "text": [
      "[[0.56507362 0.23456784 0.51450367 1.         0.16952631]\n",
      " [0.36240908 0.53770929 0.73530182 0.15629524 0.65426922]\n",
      " [0.27535992 0.11533923 0.34033348 0.50947369 0.22057372]\n",
      " [0.04332136 0.44555475 0.01882349 0.80696676 0.58805461]\n",
      " [0.         0.25217805 0.07334673 0.31498043 0.02673583]]\n"
     ]
    }
   ],
   "source": [
    "Z = np.random.random((5,5))\n",
    "Zmax, Zmin = Z.max(), Z.min()\n",
    "Z = (Z - Zmin)/(Zmax - Zmin)\n",
    "print(Z)"
   ]
  },
  {
   "cell_type": "code",
   "execution_count": 63,
   "id": "42c10c7f",
   "metadata": {},
   "outputs": [
    {
     "name": "stderr",
     "output_type": "stream",
     "text": [
      "<ipython-input-63-349c455c09b5>:1: FutureWarning: Passing (type, 1) or '1type' as a synonym of type is deprecated; in a future version of numpy, it will be understood as (type, (1,)) / '(1,)type'.\n",
      "  color = np.dtype([(\"r\", np.ubyte, 1),\n"
     ]
    }
   ],
   "source": [
    "color = np.dtype([(\"r\", np.ubyte, 1),\n",
    "(\"g\", np.ubyte, 1),\n",
    "(\"b\", np.ubyte, 1),\n",
    "(\"a\", np.ubyte, 1)])"
   ]
  },
  {
   "cell_type": "code",
   "execution_count": 65,
   "id": "68470fe2",
   "metadata": {},
   "outputs": [
    {
     "data": {
      "text/plain": [
       "array([[ 10,  13],\n",
       "       [ 28,  40],\n",
       "       [ 46,  67],\n",
       "       [ 64,  94],\n",
       "       [ 82, 121]])"
      ]
     },
     "execution_count": 65,
     "metadata": {},
     "output_type": "execute_result"
    }
   ],
   "source": [
    "mytab1=np.arange(15).reshape((5,3))\n",
    "mytab2=np.arange(6).reshape((3,2))\n",
    "np.dot(mytab1,mytab2)"
   ]
  },
  {
   "cell_type": "code",
   "execution_count": 72,
   "id": "e78d6157",
   "metadata": {},
   "outputs": [
    {
     "data": {
      "text/plain": [
       "array([ 0,  1,  2,  3, -4, -5, -6, -7,  8,  9, 10])"
      ]
     },
     "execution_count": 72,
     "metadata": {},
     "output_type": "execute_result"
    }
   ],
   "source": [
    "mytab=np.arange(11)\n",
    "\n",
    "mytab[(mytab<8) & (mytab>3)] *= -1\n",
    "mytab"
   ]
  },
  {
   "cell_type": "code",
   "execution_count": 74,
   "id": "a20a8661",
   "metadata": {},
   "outputs": [
    {
     "name": "stdout",
     "output_type": "stream",
     "text": [
      "9\n",
      "10\n"
     ]
    }
   ],
   "source": [
    "print(sum(range(5),-1))\n",
    "print(np.sum(range(5),-1))"
   ]
  },
  {
   "cell_type": "code",
   "execution_count": 76,
   "id": "531b7ea8",
   "metadata": {},
   "outputs": [
    {
     "name": "stderr",
     "output_type": "stream",
     "text": [
      "<ipython-input-76-6a54f48d784e>:1: RuntimeWarning: divide by zero encountered in floor_divide\n",
      "  np.array(0) // np.array(0)\n",
      "<ipython-input-76-6a54f48d784e>:2: RuntimeWarning: invalid value encountered in floor_divide\n",
      "  np.array(0) // np.array(0.)\n",
      "<ipython-input-76-6a54f48d784e>:3: RuntimeWarning: invalid value encountered in true_divide\n",
      "  np.array(0) / np.array(0)\n",
      "<ipython-input-76-6a54f48d784e>:4: RuntimeWarning: invalid value encountered in true_divide\n",
      "  np.array(0) / np.array(0.)\n"
     ]
    },
    {
     "data": {
      "text/plain": [
       "nan"
      ]
     },
     "execution_count": 76,
     "metadata": {},
     "output_type": "execute_result"
    }
   ],
   "source": [
    "np.array(0) // np.array(0)\n",
    "np.array(0) // np.array(0.)\n",
    "np.array(0) / np.array(0)\n",
    "np.array(0) / np.array(0.)"
   ]
  },
  {
   "cell_type": "code",
   "execution_count": 79,
   "id": "2b5c44ab",
   "metadata": {},
   "outputs": [
    {
     "name": "stdout",
     "output_type": "stream",
     "text": [
      "[-2. -1. -0.  9. -9. -2.  7. -3.  6.  5.]\n"
     ]
    }
   ],
   "source": [
    "Z = np.random.uniform(-10,+10,10)\n",
    "print (np.trunc(Z + np.copysign(0.5, Z)))"
   ]
  },
  {
   "cell_type": "code",
   "execution_count": 81,
   "id": "9eb2d5a6",
   "metadata": {},
   "outputs": [
    {
     "name": "stdout",
     "output_type": "stream",
     "text": [
      "[6. 5. 4. 6. 7. 3. 3. 8. 8. 3.]\n",
      "[6. 5. 4. 6. 7. 3. 3. 8. 8. 3.]\n",
      "[6. 5. 4. 6. 7. 3. 3. 8. 8. 3.]\n",
      "[6 5 4 6 7 3 3 8 8 3]\n",
      "[6. 5. 4. 6. 7. 3. 3. 8. 8. 3.]\n"
     ]
    }
   ],
   "source": [
    "Z = np.random.uniform(0,10,10)\n",
    "print (Z - Z%1)\n",
    "print (np.floor(Z))\n",
    "print (np.ceil(Z)-1)\n",
    "print (Z.astype(int))\n",
    "print (np.trunc(Z))"
   ]
  },
  {
   "cell_type": "code",
   "execution_count": 84,
   "id": "e4e17d49",
   "metadata": {},
   "outputs": [
    {
     "data": {
      "text/plain": [
       "array([[0., 1., 2., 3., 4.],\n",
       "       [0., 1., 2., 3., 4.],\n",
       "       [0., 1., 2., 3., 4.],\n",
       "       [0., 1., 2., 3., 4.],\n",
       "       [0., 1., 2., 3., 4.]])"
      ]
     },
     "execution_count": 84,
     "metadata": {},
     "output_type": "execute_result"
    }
   ],
   "source": [
    "Z=np.zeros((5,5))\n",
    "Z+=np.arange(5)\n",
    "Z"
   ]
  },
  {
   "cell_type": "code",
   "execution_count": 1,
   "id": "9d149511",
   "metadata": {},
   "outputs": [
    {
     "ename": "NameError",
     "evalue": "name 'np' is not defined",
     "output_type": "error",
     "traceback": [
      "\u001b[0;31m---------------------------------------------------------------------------\u001b[0m",
      "\u001b[0;31mNameError\u001b[0m                                 Traceback (most recent call last)",
      "\u001b[0;32m<ipython-input-1-67decedb258e>\u001b[0m in \u001b[0;36m<module>\u001b[0;34m\u001b[0m\n\u001b[0;32m----> 1\u001b[0;31m \u001b[0mz\u001b[0m\u001b[0;34m=\u001b[0m\u001b[0mnp\u001b[0m\u001b[0;34m.\u001b[0m\u001b[0marange\u001b[0m\u001b[0;34m(\u001b[0m\u001b[0;36m5\u001b[0m\u001b[0;34m)\u001b[0m\u001b[0;34m\u001b[0m\u001b[0;34m\u001b[0m\u001b[0m\n\u001b[0m\u001b[1;32m      2\u001b[0m \u001b[0mz\u001b[0m\u001b[0;34m=\u001b[0m\u001b[0mnp\u001b[0m\u001b[0;34m.\u001b[0m\u001b[0mvstack\u001b[0m\u001b[0;34m(\u001b[0m\u001b[0mz\u001b[0m\u001b[0;34m)\u001b[0m\u001b[0;34m\u001b[0m\u001b[0;34m\u001b[0m\u001b[0m\n\u001b[1;32m      3\u001b[0m \u001b[0mz\u001b[0m\u001b[0;34m=\u001b[0m\u001b[0mnp\u001b[0m\u001b[0;34m.\u001b[0m\u001b[0mvstack\u001b[0m\u001b[0;34m(\u001b[0m\u001b[0mz\u001b[0m\u001b[0;34m)\u001b[0m\u001b[0;34m\u001b[0m\u001b[0;34m\u001b[0m\u001b[0m\n\u001b[1;32m      4\u001b[0m \u001b[0mz\u001b[0m\u001b[0;34m=\u001b[0m\u001b[0mnp\u001b[0m\u001b[0;34m.\u001b[0m\u001b[0mvstack\u001b[0m\u001b[0;34m(\u001b[0m\u001b[0mz\u001b[0m\u001b[0;34m)\u001b[0m\u001b[0;34m\u001b[0m\u001b[0;34m\u001b[0m\u001b[0m\n\u001b[1;32m      5\u001b[0m \u001b[0mz\u001b[0m\u001b[0;34m=\u001b[0m\u001b[0mnp\u001b[0m\u001b[0;34m.\u001b[0m\u001b[0mvstack\u001b[0m\u001b[0;34m(\u001b[0m\u001b[0mz\u001b[0m\u001b[0;34m)\u001b[0m\u001b[0;34m\u001b[0m\u001b[0;34m\u001b[0m\u001b[0m\n",
      "\u001b[0;31mNameError\u001b[0m: name 'np' is not defined"
     ]
    }
   ],
   "source": [
    "z=np.arange(5)\n",
    "z=np.vstack(z)\n",
    "z=np.vstack(z)\n",
    "z=np.vstack(z)\n",
    "z=np.vstack(z)\n",
    "z"
   ]
  },
  {
   "cell_type": "code",
   "execution_count": 6,
   "id": "005531ec",
   "metadata": {},
   "outputs": [
    {
     "data": {
      "text/plain": [
       "array([[0., 1., 2., 3., 4.],\n",
       "       [0., 1., 2., 3., 4.],\n",
       "       [0., 1., 2., 3., 4.],\n",
       "       [0., 1., 2., 3., 4.],\n",
       "       [0., 1., 2., 3., 4.]])"
      ]
     },
     "execution_count": 6,
     "metadata": {},
     "output_type": "execute_result"
    }
   ],
   "source": [
    "import numpy as np\n",
    "z=np.zeros((5,5))\n",
    "z+=np.arange(5)\n",
    "z"
   ]
  },
  {
   "cell_type": "code",
   "execution_count": 11,
   "id": "31fb57aa",
   "metadata": {},
   "outputs": [
    {
     "name": "stdout",
     "output_type": "stream",
     "text": [
      "[0. 1. 2. 3. 4. 5. 6. 7. 8. 9.]\n"
     ]
    }
   ],
   "source": [
    "def generate():\n",
    "    for x in range(10):\n",
    "        yield x\n",
    "    \n",
    "Z = np.fromiter(generate(),dtype=float,count=-1)\n",
    "print(Z)"
   ]
  },
  {
   "cell_type": "code",
   "execution_count": 13,
   "id": "bcb3b0cb",
   "metadata": {},
   "outputs": [
    {
     "name": "stdout",
     "output_type": "stream",
     "text": [
      "[0.02046454 0.4012364  0.4206662  0.60526534 0.63252266 0.63781052\n",
      " 0.68814958 0.83962163 0.84030096 0.92954717]\n"
     ]
    }
   ],
   "source": [
    "Z = np.random.random(10)\n",
    "Z.sort()\n",
    "print(Z)"
   ]
  },
  {
   "cell_type": "code",
   "execution_count": 15,
   "id": "c4eb5034",
   "metadata": {},
   "outputs": [
    {
     "data": {
      "text/plain": [
       "45"
      ]
     },
     "execution_count": 15,
     "metadata": {},
     "output_type": "execute_result"
    }
   ],
   "source": [
    "Z = np.arange(10)\n",
    "np.add.reduce(Z)"
   ]
  },
  {
   "cell_type": "code",
   "execution_count": 20,
   "id": "88ce1360",
   "metadata": {},
   "outputs": [
    {
     "name": "stdout",
     "output_type": "stream",
     "text": [
      "[0.         0.09090909 0.18181818 0.27272727 0.36363636 0.45454545\n",
      " 0.54545455 0.63636364 0.72727273 0.81818182 0.90909091 1.        ]\n"
     ]
    }
   ],
   "source": [
    "Z = np.linspace(0,1,12)\n",
    "print(Z)"
   ]
  },
  {
   "cell_type": "code",
   "execution_count": 23,
   "id": "710ea467",
   "metadata": {},
   "outputs": [
    {
     "data": {
      "text/plain": [
       "array([0.00478078, 0.18742373, 0.21440082, 0.29228046, 0.38750583,\n",
       "       0.39581386, 0.53673427, 0.57815124, 0.76686833, 0.91633583])"
      ]
     },
     "execution_count": 23,
     "metadata": {},
     "output_type": "execute_result"
    }
   ],
   "source": [
    "z=np.random.random(10)\n",
    "z.sort()\n",
    "z"
   ]
  },
  {
   "cell_type": "code",
   "execution_count": 25,
   "id": "a83ec8a8",
   "metadata": {},
   "outputs": [
    {
     "name": "stdout",
     "output_type": "stream",
     "text": [
      "False\n"
     ]
    }
   ],
   "source": [
    "A = np.random.randint(0,2,5)\n",
    "B = np.random.randint(0,2,5)\n",
    "equal = np.allclose(A,B)\n",
    "print(equal)"
   ]
  },
  {
   "cell_type": "code",
   "execution_count": 27,
   "id": "8621d3ca",
   "metadata": {},
   "outputs": [
    {
     "name": "stdout",
     "output_type": "stream",
     "text": [
      "[0.49643246 0.81664375 0.47557043 0.59239004 0.63244833 0.47662283\n",
      " 0.55947507 0.56818032 0.93049212 0.47013083]\n",
      "[0.66313399 0.99655014 1.48042905 0.42608173 1.09474515 0.00804307\n",
      " 1.20034931 1.16583825 0.53325733 0.1183719 ]\n"
     ]
    }
   ],
   "source": [
    "Z = np.random.random((10,2))\n",
    "X,Y = Z[:,0], Z[:,1]\n",
    "R = np.sqrt(X**2+Y**2)\n",
    "T = np.arctan2(Y,X)\n",
    "print(R)\n",
    "print(T)"
   ]
  },
  {
   "cell_type": "code",
   "execution_count": 31,
   "id": "cf4e7bde",
   "metadata": {
    "scrolled": true
   },
   "outputs": [
    {
     "data": {
      "text/plain": [
       "array([10.        , 10.71428571, 11.42857143, 12.14285714, 12.85714286,\n",
       "       13.57142857, 14.28571429, 15.        , 15.71428571, 16.42857143,\n",
       "       17.14285714, 17.85714286, 18.57142857, 19.28571429,  0.        ])"
      ]
     },
     "execution_count": 31,
     "metadata": {},
     "output_type": "execute_result"
    }
   ],
   "source": [
    "z=np.linspace(10,20,15)\n",
    "z[z.argmax()]=0\n",
    "z"
   ]
  },
  {
   "cell_type": "code",
   "execution_count": 35,
   "id": "c5e7d162",
   "metadata": {
    "scrolled": true
   },
   "outputs": [
    {
     "ename": "ValueError",
     "evalue": "assignment destination is read-only",
     "output_type": "error",
     "traceback": [
      "\u001b[0;31m---------------------------------------------------------------------------\u001b[0m",
      "\u001b[0;31mValueError\u001b[0m                                Traceback (most recent call last)",
      "\u001b[0;32m<ipython-input-35-dcc5e7f145b5>\u001b[0m in \u001b[0;36m<module>\u001b[0;34m\u001b[0m\n\u001b[1;32m      1\u001b[0m \u001b[0mZ\u001b[0m \u001b[0;34m=\u001b[0m \u001b[0mnp\u001b[0m\u001b[0;34m.\u001b[0m\u001b[0mzeros\u001b[0m\u001b[0;34m(\u001b[0m\u001b[0;36m10\u001b[0m\u001b[0;34m)\u001b[0m\u001b[0;34m\u001b[0m\u001b[0;34m\u001b[0m\u001b[0m\n\u001b[1;32m      2\u001b[0m \u001b[0mZ\u001b[0m\u001b[0;34m.\u001b[0m\u001b[0mflags\u001b[0m\u001b[0;34m.\u001b[0m\u001b[0mwriteable\u001b[0m \u001b[0;34m=\u001b[0m \u001b[0;32mFalse\u001b[0m\u001b[0;34m\u001b[0m\u001b[0;34m\u001b[0m\u001b[0m\n\u001b[0;32m----> 3\u001b[0;31m \u001b[0mZ\u001b[0m\u001b[0;34m[\u001b[0m\u001b[0;36m0\u001b[0m\u001b[0;34m]\u001b[0m \u001b[0;34m=\u001b[0m \u001b[0;36m1\u001b[0m\u001b[0;34m\u001b[0m\u001b[0;34m\u001b[0m\u001b[0m\n\u001b[0m",
      "\u001b[0;31mValueError\u001b[0m: assignment destination is read-only"
     ]
    }
   ],
   "source": [
    "Z = np.zeros(10)\n",
    "Z.flags.writeable = False\n",
    "Z[0] = 1"
   ]
  },
  {
   "cell_type": "code",
   "execution_count": 37,
   "id": "18ab9945",
   "metadata": {
    "scrolled": true
   },
   "outputs": [
    {
     "name": "stdout",
     "output_type": "stream",
     "text": [
      "[[(0.        , 0.        ) (0.11111111, 0.        )\n",
      "  (0.22222222, 0.        ) (0.33333333, 0.        )\n",
      "  (0.44444444, 0.        ) (0.55555556, 0.        )\n",
      "  (0.66666667, 0.        ) (0.77777778, 0.        )\n",
      "  (0.88888889, 0.        ) (1.        , 0.        )]\n",
      " [(0.        , 0.11111111) (0.11111111, 0.11111111)\n",
      "  (0.22222222, 0.11111111) (0.33333333, 0.11111111)\n",
      "  (0.44444444, 0.11111111) (0.55555556, 0.11111111)\n",
      "  (0.66666667, 0.11111111) (0.77777778, 0.11111111)\n",
      "  (0.88888889, 0.11111111) (1.        , 0.11111111)]\n",
      " [(0.        , 0.22222222) (0.11111111, 0.22222222)\n",
      "  (0.22222222, 0.22222222) (0.33333333, 0.22222222)\n",
      "  (0.44444444, 0.22222222) (0.55555556, 0.22222222)\n",
      "  (0.66666667, 0.22222222) (0.77777778, 0.22222222)\n",
      "  (0.88888889, 0.22222222) (1.        , 0.22222222)]\n",
      " [(0.        , 0.33333333) (0.11111111, 0.33333333)\n",
      "  (0.22222222, 0.33333333) (0.33333333, 0.33333333)\n",
      "  (0.44444444, 0.33333333) (0.55555556, 0.33333333)\n",
      "  (0.66666667, 0.33333333) (0.77777778, 0.33333333)\n",
      "  (0.88888889, 0.33333333) (1.        , 0.33333333)]\n",
      " [(0.        , 0.44444444) (0.11111111, 0.44444444)\n",
      "  (0.22222222, 0.44444444) (0.33333333, 0.44444444)\n",
      "  (0.44444444, 0.44444444) (0.55555556, 0.44444444)\n",
      "  (0.66666667, 0.44444444) (0.77777778, 0.44444444)\n",
      "  (0.88888889, 0.44444444) (1.        , 0.44444444)]\n",
      " [(0.        , 0.55555556) (0.11111111, 0.55555556)\n",
      "  (0.22222222, 0.55555556) (0.33333333, 0.55555556)\n",
      "  (0.44444444, 0.55555556) (0.55555556, 0.55555556)\n",
      "  (0.66666667, 0.55555556) (0.77777778, 0.55555556)\n",
      "  (0.88888889, 0.55555556) (1.        , 0.55555556)]\n",
      " [(0.        , 0.66666667) (0.11111111, 0.66666667)\n",
      "  (0.22222222, 0.66666667) (0.33333333, 0.66666667)\n",
      "  (0.44444444, 0.66666667) (0.55555556, 0.66666667)\n",
      "  (0.66666667, 0.66666667) (0.77777778, 0.66666667)\n",
      "  (0.88888889, 0.66666667) (1.        , 0.66666667)]\n",
      " [(0.        , 0.77777778) (0.11111111, 0.77777778)\n",
      "  (0.22222222, 0.77777778) (0.33333333, 0.77777778)\n",
      "  (0.44444444, 0.77777778) (0.55555556, 0.77777778)\n",
      "  (0.66666667, 0.77777778) (0.77777778, 0.77777778)\n",
      "  (0.88888889, 0.77777778) (1.        , 0.77777778)]\n",
      " [(0.        , 0.88888889) (0.11111111, 0.88888889)\n",
      "  (0.22222222, 0.88888889) (0.33333333, 0.88888889)\n",
      "  (0.44444444, 0.88888889) (0.55555556, 0.88888889)\n",
      "  (0.66666667, 0.88888889) (0.77777778, 0.88888889)\n",
      "  (0.88888889, 0.88888889) (1.        , 0.88888889)]\n",
      " [(0.        , 1.        ) (0.11111111, 1.        )\n",
      "  (0.22222222, 1.        ) (0.33333333, 1.        )\n",
      "  (0.44444444, 1.        ) (0.55555556, 1.        )\n",
      "  (0.66666667, 1.        ) (0.77777778, 1.        )\n",
      "  (0.88888889, 1.        ) (1.        , 1.        )]]\n"
     ]
    }
   ],
   "source": [
    "Z = np.zeros((10,10), [('x',float),('y',float)])\n",
    "Z['x'], Z['y'] = np.meshgrid(np.linspace(0,1,10),\n",
    "np.linspace(0,1,10))\n",
    "print(Z)"
   ]
  },
  {
   "cell_type": "code",
   "execution_count": 39,
   "id": "1d698a6d",
   "metadata": {},
   "outputs": [
    {
     "name": "stdout",
     "output_type": "stream",
     "text": [
      "3638.1636371179666\n"
     ]
    }
   ],
   "source": [
    "X = np.arange(8)\n",
    "Y = X + 0.5\n",
    "C = 1.0 / np.subtract.outer(X, Y)\n",
    "print(np.linalg.det(C))"
   ]
  },
  {
   "cell_type": "code",
   "execution_count": 41,
   "id": "93c50329",
   "metadata": {
    "scrolled": true
   },
   "outputs": [
    {
     "name": "stdout",
     "output_type": "stream",
     "text": [
      "[((0., 0.), (0., 0., 0.)) ((0., 0.), (0., 0., 0.))\n",
      " ((0., 0.), (0., 0., 0.)) ((0., 0.), (0., 0., 0.))\n",
      " ((0., 0.), (0., 0., 0.)) ((0., 0.), (0., 0., 0.))\n",
      " ((0., 0.), (0., 0., 0.)) ((0., 0.), (0., 0., 0.))\n",
      " ((0., 0.), (0., 0., 0.)) ((0., 0.), (0., 0., 0.))]\n"
     ]
    },
    {
     "name": "stderr",
     "output_type": "stream",
     "text": [
      "<ipython-input-41-ea2f649d9216>:1: FutureWarning: Passing (type, 1) or '1type' as a synonym of type is deprecated; in a future version of numpy, it will be understood as (type, (1,)) / '(1,)type'.\n",
      "  Z = np.zeros(10, [ ('position', [ ('x', float, 1),\n"
     ]
    }
   ],
   "source": [
    "Z = np.zeros(10, [ ('position', [ ('x', float, 1),\n",
    "('y', float, 1)]),\n",
    "('color',\n",
    "[ ('r', float, 1),\n",
    "('g', float, 1),\n",
    "('b', float, 1)])])\n",
    "print(Z)"
   ]
  },
  {
   "cell_type": "code",
   "execution_count": 43,
   "id": "7601b787",
   "metadata": {},
   "outputs": [
    {
     "name": "stdout",
     "output_type": "stream",
     "text": [
      "[[0.         0.5679347  0.34683238 0.93750152 0.50524791 0.60103597\n",
      "  0.39929618 0.33168183 0.5939927  0.50853713]\n",
      " [0.5679347  0.         0.91470999 0.75687732 0.75022065 0.16313514\n",
      "  0.96142636 0.89534445 0.13110169 0.8164563 ]\n",
      " [0.34683238 0.91470999 0.         1.17085058 0.61372278 0.93817098\n",
      "  0.10520886 0.07768902 0.93427928 0.5645402 ]\n",
      " [0.93750152 0.75687732 1.17085058 0.         0.59594842 0.59448272\n",
      "  1.26602665 1.20387888 0.62668544 0.67792477]\n",
      " [0.50524791 0.75022065 0.61372278 0.59594842 0.         0.6609116\n",
      "  0.71697833 0.66417001 0.67888468 0.08844723]\n",
      " [0.60103597 0.16313514 0.93817098 0.59448272 0.6609116  0.\n",
      "  1.00001244 0.93216131 0.03220606 0.73698654]\n",
      " [0.39929618 0.96142636 0.10520886 1.26602665 0.71697833 1.00001244\n",
      "  0.         0.06802624 0.99328876 0.66943759]\n",
      " [0.33168183 0.89534445 0.07768902 1.20387888 0.66417001 0.93216131\n",
      "  0.06802624 0.         0.92563379 0.62186066]\n",
      " [0.5939927  0.13110169 0.93427928 0.62668544 0.67888468 0.03220606\n",
      "  0.99328876 0.92563379 0.         0.75315944]\n",
      " [0.50853713 0.8164563  0.5645402  0.67792477 0.08844723 0.73698654\n",
      "  0.66943759 0.62186066 0.75315944 0.        ]]\n"
     ]
    }
   ],
   "source": [
    "Z = np.random.random((10,2))\n",
    "X,Y = np.atleast_2d(Z[:,0]), np.atleast_2d(Z[:,1])\n",
    "D = np.sqrt( (X-X.T)**2 + (Y-Y.T)**2)\n",
    "print(D)"
   ]
  },
  {
   "cell_type": "code",
   "execution_count": 45,
   "id": "ac0475e8",
   "metadata": {},
   "outputs": [
    {
     "name": "stdout",
     "output_type": "stream",
     "text": [
      "[[0.         0.03350562 0.27943204 0.73757223 0.26620752 0.64366565\n",
      "  0.87315812 0.08926276 0.6256601  0.43381173]\n",
      " [0.03350562 0.         0.26648781 0.77020537 0.28171213 0.65690732\n",
      "  0.90047914 0.07570087 0.62461459 0.46004853]\n",
      " [0.27943204 0.26648781 0.         0.93986284 0.54559144 0.92261864\n",
      "  1.12742752 0.33303477 0.88010789 0.69808444]\n",
      " [0.73757223 0.77020537 0.93986284 0.         0.61168044 0.63990923\n",
      "  0.3425684  0.77375112 0.87979077 0.3988761 ]\n",
      " [0.26620752 0.28171213 0.54559144 0.61168044 0.         0.37788852\n",
      "  0.65498062 0.23251386 0.4092372  0.225982  ]\n",
      " [0.64366565 0.65690732 0.92261864 0.63990923 0.37788852 0.\n",
      "  0.47361556 0.59846821 0.27786493 0.33263434]\n",
      " [0.87315812 0.90047914 1.12742752 0.3425684  0.65498062 0.47361556\n",
      "  0.         0.87486887 0.75093314 0.44124953]\n",
      " [0.08926276 0.07570087 0.33303477 0.77375112 0.23251386 0.59846821\n",
      "  0.87486887 0.         0.55093237 0.43422005]\n",
      " [0.6256601  0.62461459 0.88010789 0.87979077 0.4092372  0.27786493\n",
      "  0.75093314 0.55093237 0.         0.50676356]\n",
      " [0.43381173 0.46004853 0.69808444 0.3988761  0.225982   0.33263434\n",
      "  0.44124953 0.43422005 0.50676356 0.        ]]\n"
     ]
    }
   ],
   "source": [
    "import scipy\n",
    "# Thanks Gavin Heverly-Coulson (#issue 1)\n",
    "import scipy.spatial\n",
    "Z = np.random.random((10,2))\n",
    "D = scipy.spatial.distance.cdist(Z,Z)\n",
    "print(D)\n"
   ]
  },
  {
   "cell_type": "code",
   "execution_count": 50,
   "id": "6ac69cc9",
   "metadata": {},
   "outputs": [
    {
     "name": "stdout",
     "output_type": "stream",
     "text": [
      "[0 1 2 3 4 5 6 7 8 9]\n"
     ]
    },
    {
     "data": {
      "text/plain": [
       "array([0., 1., 2., 3., 4., 5., 6., 7., 8., 9.], dtype=float32)"
      ]
     },
     "execution_count": 50,
     "metadata": {},
     "output_type": "execute_result"
    }
   ],
   "source": [
    "Z = np.arange(10, dtype=np.int32)\n",
    "print(Z)\n",
    "\n",
    "Z = Z.astype(np.float32, copy=False)\n",
    "Z"
   ]
  },
  {
   "cell_type": "code",
   "execution_count": 53,
   "id": "1f66c3b2",
   "metadata": {},
   "outputs": [
    {
     "name": "stdout",
     "output_type": "stream",
     "text": [
      "[[0 1 2]\n",
      " [1 2 3]\n",
      " [2 3 4]\n",
      " [3 4 5]\n",
      " [4 5 6]\n",
      " [5 6 7]\n",
      " [6 7 8]\n",
      " [7 8 9]]\n"
     ]
    }
   ],
   "source": [
    "from numpy.lib import stride_tricks\n",
    "def rolling(a, window):\n",
    "    shape = (a.size - window + 1, window)\n",
    "    strides = (a.itemsize, a.itemsize)\n",
    "    return stride_tricks.as_strided(a, shape=shape, strides=strides)\n",
    "Z = rolling(np.arange(10), 3)\n",
    "print(Z)"
   ]
  },
  {
   "cell_type": "code",
   "execution_count": 56,
   "id": "2e3baf87",
   "metadata": {},
   "outputs": [
    {
     "ename": "NameError",
     "evalue": "name 'int32' is not defined",
     "output_type": "error",
     "traceback": [
      "\u001b[0;31m---------------------------------------------------------------------------\u001b[0m",
      "\u001b[0;31mNameError\u001b[0m                                 Traceback (most recent call last)",
      "\u001b[0;32m<ipython-input-56-5431aa4cbf85>\u001b[0m in \u001b[0;36m<module>\u001b[0;34m\u001b[0m\n\u001b[0;32m----> 1\u001b[0;31m \u001b[0mZ\u001b[0m \u001b[0;34m=\u001b[0m \u001b[0mnp\u001b[0m\u001b[0;34m.\u001b[0m\u001b[0marange\u001b[0m\u001b[0;34m(\u001b[0m\u001b[0;36m1\u001b[0m\u001b[0;34m,\u001b[0m\u001b[0;36m15\u001b[0m\u001b[0;34m,\u001b[0m\u001b[0mdtype\u001b[0m\u001b[0;34m=\u001b[0m\u001b[0mint32\u001b[0m\u001b[0;34m)\u001b[0m\u001b[0;34m\u001b[0m\u001b[0;34m\u001b[0m\u001b[0m\n\u001b[0m\u001b[1;32m      2\u001b[0m \u001b[0mR\u001b[0m \u001b[0;34m=\u001b[0m \u001b[0mstride_tricks\u001b[0m\u001b[0;34m.\u001b[0m\u001b[0mas_strided\u001b[0m\u001b[0;34m(\u001b[0m\u001b[0mZ\u001b[0m\u001b[0;34m,\u001b[0m\u001b[0;34m(\u001b[0m\u001b[0;36m11\u001b[0m\u001b[0;34m,\u001b[0m\u001b[0;36m4\u001b[0m\u001b[0;34m)\u001b[0m\u001b[0;34m,\u001b[0m\u001b[0;34m(\u001b[0m\u001b[0;36m4\u001b[0m\u001b[0;34m,\u001b[0m\u001b[0;36m4\u001b[0m\u001b[0;34m)\u001b[0m\u001b[0;34m)\u001b[0m\u001b[0;34m\u001b[0m\u001b[0;34m\u001b[0m\u001b[0m\n\u001b[1;32m      3\u001b[0m \u001b[0mprint\u001b[0m\u001b[0;34m(\u001b[0m\u001b[0mR\u001b[0m\u001b[0;34m)\u001b[0m\u001b[0;34m\u001b[0m\u001b[0;34m\u001b[0m\u001b[0m\n",
      "\u001b[0;31mNameError\u001b[0m: name 'int32' is not defined"
     ]
    }
   ],
   "source": [
    "Z = np.arange(1,15,dtype=int32)\n",
    "R = stride_tricks.as_strided(Z,(11,4),(4,4))\n",
    "print(R)"
   ]
  },
  {
   "cell_type": "code",
   "execution_count": 57,
   "id": "90e53fce",
   "metadata": {},
   "outputs": [
    {
     "name": "stdout",
     "output_type": "stream",
     "text": [
      "[[[[0 4 3]\n",
      "   [3 2 1]\n",
      "   [1 4 2]]\n",
      "\n",
      "  [[4 3 0]\n",
      "   [2 1 2]\n",
      "   [4 2 4]]\n",
      "\n",
      "  [[3 0 0]\n",
      "   [1 2 2]\n",
      "   [2 4 0]]\n",
      "\n",
      "  [[0 0 4]\n",
      "   [2 2 3]\n",
      "   [4 0 2]]\n",
      "\n",
      "  [[0 4 3]\n",
      "   [2 3 2]\n",
      "   [0 2 1]]\n",
      "\n",
      "  [[4 3 1]\n",
      "   [3 2 2]\n",
      "   [2 1 4]]\n",
      "\n",
      "  [[3 1 1]\n",
      "   [2 2 2]\n",
      "   [1 4 0]]\n",
      "\n",
      "  [[1 1 1]\n",
      "   [2 2 1]\n",
      "   [4 0 3]]]\n",
      "\n",
      "\n",
      " [[[3 2 1]\n",
      "   [1 4 2]\n",
      "   [0 0 3]]\n",
      "\n",
      "  [[2 1 2]\n",
      "   [4 2 4]\n",
      "   [0 3 3]]\n",
      "\n",
      "  [[1 2 2]\n",
      "   [2 4 0]\n",
      "   [3 3 4]]\n",
      "\n",
      "  [[2 2 3]\n",
      "   [4 0 2]\n",
      "   [3 4 2]]\n",
      "\n",
      "  [[2 3 2]\n",
      "   [0 2 1]\n",
      "   [4 2 1]]\n",
      "\n",
      "  [[3 2 2]\n",
      "   [2 1 4]\n",
      "   [2 1 0]]\n",
      "\n",
      "  [[2 2 2]\n",
      "   [1 4 0]\n",
      "   [1 0 3]]\n",
      "\n",
      "  [[2 2 1]\n",
      "   [4 0 3]\n",
      "   [0 3 3]]]\n",
      "\n",
      "\n",
      " [[[1 4 2]\n",
      "   [0 0 3]\n",
      "   [3 4 3]]\n",
      "\n",
      "  [[4 2 4]\n",
      "   [0 3 3]\n",
      "   [4 3 3]]\n",
      "\n",
      "  [[2 4 0]\n",
      "   [3 3 4]\n",
      "   [3 3 3]]\n",
      "\n",
      "  [[4 0 2]\n",
      "   [3 4 2]\n",
      "   [3 3 3]]\n",
      "\n",
      "  [[0 2 1]\n",
      "   [4 2 1]\n",
      "   [3 3 1]]\n",
      "\n",
      "  [[2 1 4]\n",
      "   [2 1 0]\n",
      "   [3 1 1]]\n",
      "\n",
      "  [[1 4 0]\n",
      "   [1 0 3]\n",
      "   [1 1 2]]\n",
      "\n",
      "  [[4 0 3]\n",
      "   [0 3 3]\n",
      "   [1 2 4]]]\n",
      "\n",
      "\n",
      " [[[0 0 3]\n",
      "   [3 4 3]\n",
      "   [1 2 0]]\n",
      "\n",
      "  [[0 3 3]\n",
      "   [4 3 3]\n",
      "   [2 0 2]]\n",
      "\n",
      "  [[3 3 4]\n",
      "   [3 3 3]\n",
      "   [0 2 3]]\n",
      "\n",
      "  [[3 4 2]\n",
      "   [3 3 3]\n",
      "   [2 3 3]]\n",
      "\n",
      "  [[4 2 1]\n",
      "   [3 3 1]\n",
      "   [3 3 0]]\n",
      "\n",
      "  [[2 1 0]\n",
      "   [3 1 1]\n",
      "   [3 0 1]]\n",
      "\n",
      "  [[1 0 3]\n",
      "   [1 1 2]\n",
      "   [0 1 3]]\n",
      "\n",
      "  [[0 3 3]\n",
      "   [1 2 4]\n",
      "   [1 3 1]]]\n",
      "\n",
      "\n",
      " [[[3 4 3]\n",
      "   [1 2 0]\n",
      "   [3 3 2]]\n",
      "\n",
      "  [[4 3 3]\n",
      "   [2 0 2]\n",
      "   [3 2 4]]\n",
      "\n",
      "  [[3 3 3]\n",
      "   [0 2 3]\n",
      "   [2 4 4]]\n",
      "\n",
      "  [[3 3 3]\n",
      "   [2 3 3]\n",
      "   [4 4 1]]\n",
      "\n",
      "  [[3 3 1]\n",
      "   [3 3 0]\n",
      "   [4 1 0]]\n",
      "\n",
      "  [[3 1 1]\n",
      "   [3 0 1]\n",
      "   [1 0 4]]\n",
      "\n",
      "  [[1 1 2]\n",
      "   [0 1 3]\n",
      "   [0 4 3]]\n",
      "\n",
      "  [[1 2 4]\n",
      "   [1 3 1]\n",
      "   [4 3 1]]]\n",
      "\n",
      "\n",
      " [[[1 2 0]\n",
      "   [3 3 2]\n",
      "   [3 1 0]]\n",
      "\n",
      "  [[2 0 2]\n",
      "   [3 2 4]\n",
      "   [1 0 0]]\n",
      "\n",
      "  [[0 2 3]\n",
      "   [2 4 4]\n",
      "   [0 0 3]]\n",
      "\n",
      "  [[2 3 3]\n",
      "   [4 4 1]\n",
      "   [0 3 4]]\n",
      "\n",
      "  [[3 3 0]\n",
      "   [4 1 0]\n",
      "   [3 4 4]]\n",
      "\n",
      "  [[3 0 1]\n",
      "   [1 0 4]\n",
      "   [4 4 2]]\n",
      "\n",
      "  [[0 1 3]\n",
      "   [0 4 3]\n",
      "   [4 2 4]]\n",
      "\n",
      "  [[1 3 1]\n",
      "   [4 3 1]\n",
      "   [2 4 4]]]\n",
      "\n",
      "\n",
      " [[[3 3 2]\n",
      "   [3 1 0]\n",
      "   [0 4 4]]\n",
      "\n",
      "  [[3 2 4]\n",
      "   [1 0 0]\n",
      "   [4 4 0]]\n",
      "\n",
      "  [[2 4 4]\n",
      "   [0 0 3]\n",
      "   [4 0 4]]\n",
      "\n",
      "  [[4 4 1]\n",
      "   [0 3 4]\n",
      "   [0 4 0]]\n",
      "\n",
      "  [[4 1 0]\n",
      "   [3 4 4]\n",
      "   [4 0 4]]\n",
      "\n",
      "  [[1 0 4]\n",
      "   [4 4 2]\n",
      "   [0 4 3]]\n",
      "\n",
      "  [[0 4 3]\n",
      "   [4 2 4]\n",
      "   [4 3 4]]\n",
      "\n",
      "  [[4 3 1]\n",
      "   [2 4 4]\n",
      "   [3 4 2]]]\n",
      "\n",
      "\n",
      " [[[3 1 0]\n",
      "   [0 4 4]\n",
      "   [1 2 3]]\n",
      "\n",
      "  [[1 0 0]\n",
      "   [4 4 0]\n",
      "   [2 3 1]]\n",
      "\n",
      "  [[0 0 3]\n",
      "   [4 0 4]\n",
      "   [3 1 4]]\n",
      "\n",
      "  [[0 3 4]\n",
      "   [0 4 0]\n",
      "   [1 4 0]]\n",
      "\n",
      "  [[3 4 4]\n",
      "   [4 0 4]\n",
      "   [4 0 0]]\n",
      "\n",
      "  [[4 4 2]\n",
      "   [0 4 3]\n",
      "   [0 0 0]]\n",
      "\n",
      "  [[4 2 4]\n",
      "   [4 3 4]\n",
      "   [0 0 0]]\n",
      "\n",
      "  [[2 4 4]\n",
      "   [3 4 2]\n",
      "   [0 0 1]]]]\n"
     ]
    }
   ],
   "source": [
    "Z = np.random.randint(0,5,(10,10))\n",
    "n = 3\n",
    "i = 1 + (Z.shape[0]-3)\n",
    "j = 1 + (Z.shape[1]-3)\n",
    "C = stride_tricks.as_strided(Z, shape=(i, j, n, n), strides=Z.strides + Z.strides)\n",
    "print(C)"
   ]
  }
 ],
 "metadata": {
  "kernelspec": {
   "display_name": "Python 3 (ipykernel)",
   "language": "python",
   "name": "python3"
  },
  "language_info": {
   "codemirror_mode": {
    "name": "ipython",
    "version": 3
   },
   "file_extension": ".py",
   "mimetype": "text/x-python",
   "name": "python",
   "nbconvert_exporter": "python",
   "pygments_lexer": "ipython3",
   "version": "3.9.9"
  }
 },
 "nbformat": 4,
 "nbformat_minor": 5
}
