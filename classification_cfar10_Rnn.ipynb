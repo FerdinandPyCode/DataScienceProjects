{
 "cells": [
  {
   "cell_type": "code",
   "execution_count": 8,
   "id": "2144f89e",
   "metadata": {},
   "outputs": [],
   "source": [
    "import tensorflow as tf\n",
    "from tensorflow import keras\n",
    "import matplotlib.pyplot as plt\n",
    "import numpy as np"
   ]
  },
  {
   "cell_type": "code",
   "execution_count": 9,
   "id": "3efbd3e7",
   "metadata": {},
   "outputs": [
    {
     "data": {
      "text/plain": [
       "True"
      ]
     },
     "execution_count": 9,
     "metadata": {},
     "output_type": "execute_result"
    }
   ],
   "source": [
    "tf.test.is_built_with_cuda()"
   ]
  },
  {
   "cell_type": "code",
   "execution_count": 10,
   "id": "3ea0a7e6",
   "metadata": {
    "scrolled": true
   },
   "outputs": [
    {
     "name": "stdout",
     "output_type": "stream",
     "text": [
      "Downloading data from https://www.cs.toronto.edu/~kriz/cifar-10-python.tar.gz\n",
      "170498071/170498071 [==============================] - 198s 1us/step\n"
     ]
    }
   ],
   "source": [
    "(x_train, y_train),(x_test, y_test) = tf.keras.datasets.cifar10.load_data()"
   ]
  },
  {
   "cell_type": "code",
   "execution_count": 11,
   "id": "c8828fce",
   "metadata": {},
   "outputs": [
    {
     "data": {
      "text/plain": [
       "(50000, 32, 32, 3)"
      ]
     },
     "execution_count": 11,
     "metadata": {},
     "output_type": "execute_result"
    }
   ],
   "source": [
    "x_train.shape"
   ]
  },
  {
   "cell_type": "code",
   "execution_count": 27,
   "id": "1b81c52c",
   "metadata": {},
   "outputs": [],
   "source": [
    "def plot_image(index):\n",
    "    plt.figure(figsize=(10,1))\n",
    "    plt.xlabel(classes[y_train[index][0]])\n",
    "    plt.imshow(x_train[index])"
   ]
  },
  {
   "cell_type": "code",
   "execution_count": 28,
   "id": "b6acd86c",
   "metadata": {},
   "outputs": [
    {
     "data": {
      "image/png": "[encoded data removed]",
      "text/plain": [
       "<Figure size 720x72 with 1 Axes>"
      ]
     },
     "metadata": {
      "needs_background": "light"
     },
     "output_type": "display_data"
    }
   ],
   "source": [
    "plot_image(0)"
   ]
  },
  {
   "cell_type": "code",
   "execution_count": 29,
   "id": "08cb9239",
   "metadata": {},
   "outputs": [
    {
     "data": {
      "image/png": "[encoded data removed]",
      "text/plain": [
       "<Figure size 720x72 with 1 Axes>"
      ]
     },
     "metadata": {
      "needs_background": "light"
     },
     "output_type": "display_data"
    }
   ],
   "source": [
    "plot_image(1)"
   ]
  },
  {
   "cell_type": "code",
   "execution_count": 21,
   "id": "d46c95c0",
   "metadata": {},
   "outputs": [],
   "source": [
    "classes = ['airplane','automobile','bird','cat','deer','dog','frog','horse','ship','truck']"
   ]
  },
  {
   "cell_type": "code",
   "execution_count": 22,
   "id": "d8901d6b",
   "metadata": {},
   "outputs": [
    {
     "data": {
      "image/png": "[encoded data removed]",
      "text/plain": [
       "<Figure size 720x72 with 1 Axes>"
      ]
     },
     "metadata": {
      "needs_background": "light"
     },
     "output_type": "display_data"
    }
   ],
   "source": [
    "plot_image(3)"
   ]
  },
  {
   "cell_type": "code",
   "execution_count": 24,
   "id": "c8a4f696",
   "metadata": {},
   "outputs": [
    {
     "data": {
      "text/plain": [
       "'deer'"
      ]
     },
     "execution_count": 24,
     "metadata": {},
     "output_type": "execute_result"
    }
   ],
   "source": [
    "classes[y_train[3][0]]"
   ]
  },
  {
   "cell_type": "code",
   "execution_count": 30,
   "id": "59fd2306",
   "metadata": {},
   "outputs": [],
   "source": [
    "x_train_scaled = x_train / 250\n"
   ]
  },
  {
   "cell_type": "code",
   "execution_count": 40,
   "id": "f268d129",
   "metadata": {},
   "outputs": [],
   "source": [
    "x_test_scaled = x_test / 250"
   ]
  },
  {
   "cell_type": "markdown",
   "id": "b3d56957",
   "metadata": {},
   "source": [
    "# One Hot Encodding"
   ]
  },
  {
   "cell_type": "code",
   "execution_count": 31,
   "id": "5bc22df8",
   "metadata": {},
   "outputs": [],
   "source": [
    "y_train_categorical = keras.utils.to_categorical(\n",
    "    y_train , num_classes=10, dtype='float32'\n",
    ")"
   ]
  },
  {
   "cell_type": "code",
   "execution_count": 34,
   "id": "f3d5418b",
   "metadata": {},
   "outputs": [
    {
     "data": {
      "text/plain": [
       "array([[0., 0., 0., 0., 0., 0., 1., 0., 0., 0.],\n",
       "       [0., 0., 0., 0., 0., 0., 0., 0., 0., 1.],\n",
       "       [0., 0., 0., 0., 0., 0., 0., 0., 0., 1.],\n",
       "       [0., 0., 0., 0., 1., 0., 0., 0., 0., 0.],\n",
       "       [0., 1., 0., 0., 0., 0., 0., 0., 0., 0.]], dtype=float32)"
      ]
     },
     "execution_count": 34,
     "metadata": {},
     "output_type": "execute_result"
    }
   ],
   "source": [
    "y_train_categorical[:5]"
   ]
  },
  {
   "cell_type": "code",
   "execution_count": 33,
   "id": "8c2aac38",
   "metadata": {},
   "outputs": [
    {
     "data": {
      "text/plain": [
       "array([[6],\n",
       "       [9],\n",
       "       [9],\n",
       "       [4],\n",
       "       [1]], dtype=uint8)"
      ]
     },
     "execution_count": 33,
     "metadata": {},
     "output_type": "execute_result"
    }
   ],
   "source": [
    "y_train[:5]"
   ]
  },
  {
   "cell_type": "code",
   "execution_count": 35,
   "id": "ff967f75",
   "metadata": {},
   "outputs": [],
   "source": [
    "y_test_categorical = keras.utils.to_categorical(\n",
    "    y_test , num_classes=10, dtype='float32'\n",
    ")"
   ]
  },
  {
   "cell_type": "markdown",
   "id": "efa9bf48",
   "metadata": {},
   "source": [
    "## categorical_crossentropy\n",
    "\n",
    "Because of one hot encoded if not use for a discret output **sparse_categorical_crossentropy**"
   ]
  },
  {
   "cell_type": "code",
   "execution_count": 37,
   "id": "8a1d0304",
   "metadata": {},
   "outputs": [
    {
     "name": "stderr",
     "output_type": "stream",
     "text": [
      "2022-10-29 00:55:27.950292: W tensorflow/core/framework/cpu_allocator_impl.cc:82] Allocation of 36864000 exceeds 10% of free system memory.\n"
     ]
    },
    {
     "name": "stdout",
     "output_type": "stream",
     "text": [
      "Epoch 1/50\n",
      "1563/1563 [==============================] - 67s 40ms/step - loss: 1.8108 - accuracy: 0.3556\n",
      "Epoch 2/50\n",
      "1563/1563 [==============================] - 63s 40ms/step - loss: 1.6196 - accuracy: 0.4286\n",
      "Epoch 3/50\n",
      "1563/1563 [==============================] - 75s 48ms/step - loss: 1.5415 - accuracy: 0.4572\n",
      "Epoch 4/50\n",
      "1563/1563 [==============================] - 70s 45ms/step - loss: 1.4797 - accuracy: 0.4760\n",
      "Epoch 5/50\n",
      "1563/1563 [==============================] - 66s 42ms/step - loss: 1.4301 - accuracy: 0.4966\n",
      "Epoch 6/50\n",
      "1563/1563 [==============================] - 62s 40ms/step - loss: 1.3887 - accuracy: 0.5109\n",
      "Epoch 7/50\n",
      "1563/1563 [==============================] - 67s 43ms/step - loss: 1.3484 - accuracy: 0.5254\n",
      "Epoch 8/50\n",
      "1563/1563 [==============================] - 61s 39ms/step - loss: 1.3117 - accuracy: 0.5387\n",
      "Epoch 9/50\n",
      "1563/1563 [==============================] - 62s 40ms/step - loss: 1.2810 - accuracy: 0.5491\n",
      "Epoch 10/50\n",
      "1563/1563 [==============================] - 62s 40ms/step - loss: 1.2497 - accuracy: 0.5601\n",
      "Epoch 11/50\n",
      "1563/1563 [==============================] - 62s 40ms/step - loss: 1.2214 - accuracy: 0.5700\n",
      "Epoch 12/50\n",
      "1563/1563 [==============================] - 62s 40ms/step - loss: 1.1908 - accuracy: 0.5835\n",
      "Epoch 13/50\n",
      "1563/1563 [==============================] - 63s 40ms/step - loss: 1.1658 - accuracy: 0.5939\n",
      "Epoch 14/50\n",
      "1563/1563 [==============================] - 64s 41ms/step - loss: 1.1381 - accuracy: 0.6013\n",
      "Epoch 15/50\n",
      "1563/1563 [==============================] - 68s 44ms/step - loss: 1.1115 - accuracy: 0.6127\n",
      "Epoch 16/50\n",
      "1563/1563 [==============================] - 67s 43ms/step - loss: 1.0814 - accuracy: 0.6238\n",
      "Epoch 17/50\n",
      "1563/1563 [==============================] - 66s 42ms/step - loss: 1.0567 - accuracy: 0.6328\n",
      "Epoch 18/50\n",
      "1563/1563 [==============================] - 64s 41ms/step - loss: 1.0298 - accuracy: 0.6403\n",
      "Epoch 19/50\n",
      "1563/1563 [==============================] - 63s 40ms/step - loss: 1.0042 - accuracy: 0.6510\n",
      "Epoch 20/50\n",
      "1563/1563 [==============================] - 64s 41ms/step - loss: 0.9807 - accuracy: 0.6600\n",
      "Epoch 21/50\n",
      "1563/1563 [==============================] - 63s 40ms/step - loss: 0.9524 - accuracy: 0.6695\n",
      "Epoch 22/50\n",
      "1563/1563 [==============================] - 64s 41ms/step - loss: 0.9254 - accuracy: 0.6810\n",
      "Epoch 23/50\n",
      "1563/1563 [==============================] - 63s 40ms/step - loss: 0.9022 - accuracy: 0.6881\n",
      "Epoch 24/50\n",
      "1563/1563 [==============================] - 63s 40ms/step - loss: 0.8773 - accuracy: 0.6983\n",
      "Epoch 25/50\n",
      "1563/1563 [==============================] - 63s 40ms/step - loss: 0.8498 - accuracy: 0.7056\n",
      "Epoch 26/50\n",
      "1563/1563 [==============================] - 63s 40ms/step - loss: 0.8269 - accuracy: 0.7152\n",
      "Epoch 27/50\n",
      "1563/1563 [==============================] - 63s 40ms/step - loss: 0.7987 - accuracy: 0.7245\n",
      "Epoch 28/50\n",
      "1563/1563 [==============================] - 63s 40ms/step - loss: 0.7724 - accuracy: 0.7353\n",
      "Epoch 29/50\n",
      "1563/1563 [==============================] - 62s 40ms/step - loss: 0.7485 - accuracy: 0.7438\n",
      "Epoch 30/50\n",
      "1563/1563 [==============================] - 63s 40ms/step - loss: 0.7232 - accuracy: 0.7539\n",
      "Epoch 31/50\n",
      "1563/1563 [==============================] - 63s 40ms/step - loss: 0.6979 - accuracy: 0.7621\n",
      "Epoch 32/50\n",
      "1563/1563 [==============================] - 63s 40ms/step - loss: 0.6708 - accuracy: 0.7738\n",
      "Epoch 33/50\n",
      "1563/1563 [==============================] - 63s 40ms/step - loss: 0.6500 - accuracy: 0.7804\n",
      "Epoch 34/50\n",
      "1563/1563 [==============================] - 63s 40ms/step - loss: 0.6253 - accuracy: 0.7905\n",
      "Epoch 35/50\n",
      "1563/1563 [==============================] - 63s 40ms/step - loss: 0.6002 - accuracy: 0.7994\n",
      "Epoch 36/50\n",
      "1563/1563 [==============================] - 63s 40ms/step - loss: 0.5764 - accuracy: 0.8078\n",
      "Epoch 37/50\n",
      "1563/1563 [==============================] - 63s 41ms/step - loss: 0.5544 - accuracy: 0.8170\n",
      "Epoch 38/50\n",
      "1563/1563 [==============================] - 65s 42ms/step - loss: 0.5328 - accuracy: 0.8244\n",
      "Epoch 39/50\n",
      "1563/1563 [==============================] - 64s 41ms/step - loss: 0.5092 - accuracy: 0.8312\n",
      "Epoch 40/50\n",
      "1563/1563 [==============================] - 65s 41ms/step - loss: 0.4856 - accuracy: 0.8408\n",
      "Epoch 41/50\n",
      "1563/1563 [==============================] - 65s 41ms/step - loss: 0.4621 - accuracy: 0.8491\n",
      "Epoch 42/50\n",
      "1563/1563 [==============================] - 63s 40ms/step - loss: 0.4416 - accuracy: 0.8581\n",
      "Epoch 43/50\n",
      "1563/1563 [==============================] - 63s 40ms/step - loss: 0.4188 - accuracy: 0.8653\n",
      "Epoch 44/50\n",
      "1563/1563 [==============================] - 66s 42ms/step - loss: 0.3964 - accuracy: 0.8734\n",
      "Epoch 45/50\n",
      "1563/1563 [==============================] - 62s 40ms/step - loss: 0.3785 - accuracy: 0.8813\n",
      "Epoch 46/50\n",
      "1563/1563 [==============================] - 62s 40ms/step - loss: 0.3619 - accuracy: 0.8861\n",
      "Epoch 47/50\n",
      "1563/1563 [==============================] - 63s 40ms/step - loss: 0.3397 - accuracy: 0.8942\n",
      "Epoch 48/50\n",
      "1563/1563 [==============================] - 64s 41ms/step - loss: 0.3277 - accuracy: 0.8979\n",
      "Epoch 49/50\n",
      "1563/1563 [==============================] - 63s 40ms/step - loss: 0.3075 - accuracy: 0.9065\n",
      "Epoch 50/50\n",
      "1563/1563 [==============================] - 70s 45ms/step - loss: 0.2879 - accuracy: 0.9135\n"
     ]
    },
    {
     "data": {
      "text/plain": [
       "<keras.callbacks.History at 0x7ffa44d84ee0>"
      ]
     },
     "execution_count": 37,
     "metadata": {},
     "output_type": "execute_result"
    }
   ],
   "source": [
    "model = keras.Sequential([\n",
    "    keras.layers.Flatten(input_shape = (32,32,3)),\n",
    "    keras.layers.Dense(3000,activation='relu'),\n",
    "    keras.layers.Dense(1000,activation='relu'),\n",
    "    keras.layers.Dense(10,activation='sigmoid'),\n",
    "])\n",
    "\n",
    "model.compile(\n",
    "    optimizer='sgd',\n",
    "    loss='categorical_crossentropy',\n",
    "    metrics = ['accuracy']\n",
    ")\n",
    "\n",
    "model.fit(x_train_scaled , y_train_categorical , epochs= 50)"
   ]
  },
  {
   "cell_type": "code",
   "execution_count": 41,
   "id": "12f5e399",
   "metadata": {},
   "outputs": [
    {
     "name": "stdout",
     "output_type": "stream",
     "text": [
      "313/313 [==============================] - 3s 9ms/step\n"
     ]
    },
    {
     "data": {
      "text/plain": [
       "8"
      ]
     },
     "execution_count": 41,
     "metadata": {},
     "output_type": "execute_result"
    }
   ],
   "source": [
    "np.argmax(model.predict(x_test_scaled)[1])"
   ]
  }
 ],
 "metadata": {
  "kernelspec": {
   "display_name": "Python 3 (ipykernel)",
   "language": "python",
   "name": "python3"
  },
  "language_info": {
   "codemirror_mode": {
    "name": "ipython",
    "version": 3
   },
   "file_extension": ".py",
   "mimetype": "text/x-python",
   "name": "python",
   "nbconvert_exporter": "python",
   "pygments_lexer": "ipython3",
   "version": "3.10.6"
  }
 },
 "nbformat": 4,
 "nbformat_minor": 5
}
